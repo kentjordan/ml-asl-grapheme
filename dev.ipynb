{
 "cells": [
  {
   "cell_type": "markdown",
   "metadata": {},
   "source": [
    "### Imports dependencies"
   ]
  },
  {
   "cell_type": "code",
   "execution_count": 1,
   "metadata": {
    "ExecuteTime": {
     "end_time": "2024-05-19T09:09:34.791499Z",
     "start_time": "2024-05-19T09:09:30.352924Z"
    }
   },
   "outputs": [],
   "source": [
    "import torch\n",
    "\n",
    "from torch.utils.data import DataLoader"
   ]
  },
  {
   "cell_type": "markdown",
   "metadata": {},
   "source": [
    "### Define the device to use in training"
   ]
  },
  {
   "cell_type": "code",
   "execution_count": 2,
   "metadata": {
    "ExecuteTime": {
     "end_time": "2024-05-19T09:14:02.843011Z",
     "start_time": "2024-05-19T09:14:02.832090Z"
    }
   },
   "outputs": [
    {
     "data": {
      "text/plain": [
       "device(type='cuda')"
      ]
     },
     "execution_count": 2,
     "metadata": {},
     "output_type": "execute_result"
    }
   ],
   "source": [
    "device = torch.device('cuda' if torch.cuda.is_available() else 'cpu')\n",
    "device"
   ]
  },
  {
   "cell_type": "markdown",
   "metadata": {},
   "source": [
    "### Setup Dataset"
   ]
  },
  {
   "cell_type": "markdown",
   "metadata": {},
   "source": [
    "Train Dataset"
   ]
  },
  {
   "cell_type": "code",
   "execution_count": 3,
   "metadata": {
    "ExecuteTime": {
     "end_time": "2024-05-19T09:09:35.371052Z",
     "start_time": "2024-05-19T09:09:34.804633Z"
    }
   },
   "outputs": [],
   "source": [
    "from datasets import ASLTrainDataset\n",
    "\n",
    "train_dataset = ASLTrainDataset(dir=\"./dataset/asl_alphabet_train\")\n",
    "train_loader = DataLoader(dataset=train_dataset, batch_size=128, shuffle=True)"
   ]
  },
  {
   "cell_type": "markdown",
   "metadata": {},
   "source": [
    "Test Dataset"
   ]
  },
  {
   "cell_type": "markdown",
   "metadata": {},
   "source": [
    "### Initialize ASL Model"
   ]
  },
  {
   "cell_type": "code",
   "execution_count": 4,
   "metadata": {
    "ExecuteTime": {
     "end_time": "2024-05-19T09:09:35.390544Z",
     "start_time": "2024-05-19T09:09:35.380057Z"
    }
   },
   "outputs": [],
   "source": [
    "from model import ASLModel\n",
    "\n",
    "model = ASLModel(in_channels=3, out_channels=64).to(device)"
   ]
  },
  {
   "cell_type": "markdown",
   "metadata": {},
   "source": [
    "### Define Loss and Optimizer of the Model"
   ]
  },
  {
   "cell_type": "code",
   "execution_count": 5,
   "metadata": {},
   "outputs": [],
   "source": [
    "from torch.nn import CrossEntropyLoss\n",
    "from torch.optim import Adam"
   ]
  },
  {
   "cell_type": "code",
   "execution_count": 6,
   "metadata": {},
   "outputs": [],
   "source": [
    "criterion = CrossEntropyLoss()\n",
    "optimizer = Adam(model.parameters(), lr=0.001, weight_decay=1e-4)"
   ]
  },
  {
   "cell_type": "markdown",
   "metadata": {},
   "source": [
    "### Training model"
   ]
  },
  {
   "cell_type": "markdown",
   "metadata": {},
   "source": [
    "Define training function"
   ]
  },
  {
   "cell_type": "code",
   "execution_count": 7,
   "metadata": {},
   "outputs": [],
   "source": [
    "from torcheval.metrics.functional import multiclass_f1_score"
   ]
  },
  {
   "cell_type": "code",
   "execution_count": 8,
   "metadata": {},
   "outputs": [],
   "source": [
    "def train(epoch):\n",
    "\n",
    "    iteration_count = len(train_loader)\n",
    "\n",
    "    for e in range(epoch):\n",
    "        for i, (x, y) in enumerate(train_loader):\n",
    "            x = x.to(device)\n",
    "            y = y.to(device)\n",
    "            out = model(x)\n",
    "           \n",
    "            loss = criterion(out, y) \n",
    "            optimizer.zero_grad()\n",
    "            loss.backward()\n",
    "            optimizer.step()\n",
    "            score = multiclass_f1_score(out, y, num_classes=29)\n",
    "\n",
    "            if i  % (iteration_count / 20) == 0:\n",
    "                print(f\"epoch {e} | iteration: {i}/{iteration_count} | loss: {loss.item()} | f1-score: {score}\")"
   ]
  },
  {
   "cell_type": "code",
   "execution_count": 9,
   "metadata": {},
   "outputs": [
    {
     "name": "stdout",
     "output_type": "stream",
     "text": [
      "epoch 0 | iteration: 0/680 | loss: 3.3659255504608154 | f1-score: 0.0234375\n",
      "epoch 0 | iteration: 34/680 | loss: 3.377070426940918 | f1-score: 0.0078125\n",
      "epoch 0 | iteration: 68/680 | loss: 3.249237298965454 | f1-score: 0.078125\n",
      "epoch 0 | iteration: 102/680 | loss: 3.013221502304077 | f1-score: 0.15625\n",
      "epoch 0 | iteration: 136/680 | loss: 2.678464412689209 | f1-score: 0.171875\n",
      "epoch 0 | iteration: 170/680 | loss: 2.4586472511291504 | f1-score: 0.2890625\n",
      "epoch 0 | iteration: 204/680 | loss: 2.117218255996704 | f1-score: 0.3515625\n",
      "epoch 0 | iteration: 238/680 | loss: 2.1067874431610107 | f1-score: 0.34375\n",
      "epoch 0 | iteration: 272/680 | loss: 1.7907192707061768 | f1-score: 0.4140625\n",
      "epoch 0 | iteration: 306/680 | loss: 1.8849259614944458 | f1-score: 0.421875\n",
      "epoch 0 | iteration: 340/680 | loss: 1.645187258720398 | f1-score: 0.421875\n",
      "epoch 0 | iteration: 374/680 | loss: 1.4462394714355469 | f1-score: 0.5078125\n",
      "epoch 0 | iteration: 408/680 | loss: 1.298228144645691 | f1-score: 0.5546875\n",
      "epoch 0 | iteration: 442/680 | loss: 1.1754417419433594 | f1-score: 0.609375\n",
      "epoch 0 | iteration: 476/680 | loss: 1.1490827798843384 | f1-score: 0.578125\n",
      "epoch 0 | iteration: 510/680 | loss: 1.0137336254119873 | f1-score: 0.65625\n",
      "epoch 0 | iteration: 544/680 | loss: 1.1830792427062988 | f1-score: 0.59375\n",
      "epoch 0 | iteration: 578/680 | loss: 1.0404376983642578 | f1-score: 0.65625\n",
      "epoch 0 | iteration: 612/680 | loss: 0.8636495471000671 | f1-score: 0.71875\n",
      "epoch 0 | iteration: 646/680 | loss: 0.9407832622528076 | f1-score: 0.6796875\n",
      "epoch 1 | iteration: 0/680 | loss: 0.850797712802887 | f1-score: 0.7734375\n",
      "epoch 1 | iteration: 34/680 | loss: 0.8669463396072388 | f1-score: 0.7265625\n",
      "epoch 1 | iteration: 68/680 | loss: 0.7319599390029907 | f1-score: 0.75\n",
      "epoch 1 | iteration: 102/680 | loss: 0.7968664169311523 | f1-score: 0.7265625\n",
      "epoch 1 | iteration: 136/680 | loss: 1.0808852910995483 | f1-score: 0.59375\n",
      "epoch 1 | iteration: 170/680 | loss: 0.6774783134460449 | f1-score: 0.7421875\n",
      "epoch 1 | iteration: 204/680 | loss: 0.7374545335769653 | f1-score: 0.7265625\n",
      "epoch 1 | iteration: 238/680 | loss: 0.7128438353538513 | f1-score: 0.7265625\n",
      "epoch 1 | iteration: 272/680 | loss: 0.6074091196060181 | f1-score: 0.796875\n",
      "epoch 1 | iteration: 306/680 | loss: 0.6407259702682495 | f1-score: 0.8046875\n",
      "epoch 1 | iteration: 340/680 | loss: 0.5797101259231567 | f1-score: 0.8125\n",
      "epoch 1 | iteration: 374/680 | loss: 0.524414598941803 | f1-score: 0.8046875\n",
      "epoch 1 | iteration: 408/680 | loss: 0.5052487254142761 | f1-score: 0.8125\n",
      "epoch 1 | iteration: 442/680 | loss: 0.5321747064590454 | f1-score: 0.78125\n",
      "epoch 1 | iteration: 476/680 | loss: 0.6282706260681152 | f1-score: 0.7734375\n",
      "epoch 1 | iteration: 510/680 | loss: 0.5092553496360779 | f1-score: 0.8125\n",
      "epoch 1 | iteration: 544/680 | loss: 0.5479562282562256 | f1-score: 0.8203125\n",
      "epoch 1 | iteration: 578/680 | loss: 0.5011327266693115 | f1-score: 0.8203125\n",
      "epoch 1 | iteration: 612/680 | loss: 0.4661672115325928 | f1-score: 0.8359375\n",
      "epoch 1 | iteration: 646/680 | loss: 0.6111012101173401 | f1-score: 0.75\n",
      "epoch 2 | iteration: 0/680 | loss: 0.4114719033241272 | f1-score: 0.875\n",
      "epoch 2 | iteration: 34/680 | loss: 0.5541399121284485 | f1-score: 0.828125\n",
      "epoch 2 | iteration: 68/680 | loss: 0.4710666239261627 | f1-score: 0.828125\n",
      "epoch 2 | iteration: 102/680 | loss: 0.47379013895988464 | f1-score: 0.8046875\n",
      "epoch 2 | iteration: 136/680 | loss: 0.3150113821029663 | f1-score: 0.890625\n",
      "epoch 2 | iteration: 170/680 | loss: 0.3245790898799896 | f1-score: 0.90625\n",
      "epoch 2 | iteration: 204/680 | loss: 0.5729545950889587 | f1-score: 0.796875\n",
      "epoch 2 | iteration: 238/680 | loss: 0.21892954409122467 | f1-score: 0.9453125\n",
      "epoch 2 | iteration: 272/680 | loss: 0.39938005805015564 | f1-score: 0.8359375\n",
      "epoch 2 | iteration: 306/680 | loss: 0.458855003118515 | f1-score: 0.84375\n",
      "epoch 2 | iteration: 340/680 | loss: 0.424018919467926 | f1-score: 0.8359375\n",
      "epoch 2 | iteration: 374/680 | loss: 0.37606802582740784 | f1-score: 0.875\n",
      "epoch 2 | iteration: 408/680 | loss: 0.26022869348526 | f1-score: 0.8984375\n",
      "epoch 2 | iteration: 442/680 | loss: 0.4147580564022064 | f1-score: 0.8515625\n",
      "epoch 2 | iteration: 476/680 | loss: 0.29763492941856384 | f1-score: 0.90625\n",
      "epoch 2 | iteration: 510/680 | loss: 0.4806898236274719 | f1-score: 0.8359375\n",
      "epoch 2 | iteration: 544/680 | loss: 0.3284488916397095 | f1-score: 0.875\n",
      "epoch 2 | iteration: 578/680 | loss: 0.2665342688560486 | f1-score: 0.8671875\n",
      "epoch 2 | iteration: 612/680 | loss: 0.20941506326198578 | f1-score: 0.9296875\n",
      "epoch 2 | iteration: 646/680 | loss: 0.3097737431526184 | f1-score: 0.8671875\n"
     ]
    }
   ],
   "source": [
    "torch.cuda.empty_cache()\n",
    "train(epoch=3)"
   ]
  },
  {
   "cell_type": "markdown",
   "metadata": {},
   "source": [
    "### Save the model"
   ]
  },
  {
   "cell_type": "code",
   "execution_count": 11,
   "metadata": {},
   "outputs": [],
   "source": [
    "torch.save(model.state_dict(), './models/dev.pt')"
   ]
  }
 ],
 "metadata": {
  "kernelspec": {
   "display_name": ".venv",
   "language": "python",
   "name": "python3"
  },
  "language_info": {
   "codemirror_mode": {
    "name": "ipython",
    "version": 3
   },
   "file_extension": ".py",
   "mimetype": "text/x-python",
   "name": "python",
   "nbconvert_exporter": "python",
   "pygments_lexer": "ipython3",
   "version": "3.12.3"
  }
 },
 "nbformat": 4,
 "nbformat_minor": 2
}
